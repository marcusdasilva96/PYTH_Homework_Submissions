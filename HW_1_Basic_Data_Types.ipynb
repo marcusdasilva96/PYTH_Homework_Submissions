{
  "nbformat": 4,
  "nbformat_minor": 0,
  "metadata": {
    "colab": {
      "name": "HW 1 - Basic Data Types.ipynb",
      "version": "0.3.2",
      "provenance": [],
      "collapsed_sections": [],
      "include_colab_link": true
    },
    "kernelspec": {
      "name": "python3",
      "display_name": "Python 3"
    }
  },
  "cells": [
    {
      "cell_type": "markdown",
      "metadata": {
        "id": "view-in-github",
        "colab_type": "text"
      },
      "source": [
        "<a href=\"https://colab.research.google.com/github/marcusdasilva96/PYTH_Homework_Submissions/blob/master/HW_1_Basic_Data_Types.ipynb\" target=\"_parent\"><img src=\"https://colab.research.google.com/assets/colab-badge.svg\" alt=\"Open In Colab\"/></a>"
      ]
    },
    {
      "cell_type": "markdown",
      "metadata": {
        "id": "SJQvS5QJSVyX",
        "colab_type": "text"
      },
      "source": [
        "<a href=\"https://colab.research.google.com/github/mottaquikarim/PYTH2/blob/master/src/PSETS/nb/basic_data_inclass_psets.ipynb\" target=\"_parent\"><img src=\"https://colab.research.google.com/assets/colab-badge.svg\" alt=\"Open In Colab\"/></a>"
      ]
    },
    {
      "cell_type": "markdown",
      "metadata": {
        "id": "Lkx2tmo1SVyZ",
        "colab_type": "text"
      },
      "source": [
        "#  BASIC DATA TYPES\n",
        "\n",
        "## BASICS\n",
        "\n",
        "### P1.PY\n",
        "\n",
        "\n"
      ]
    },
    {
      "cell_type": "code",
      "metadata": {
        "id": "sGkdQ9nhSVya",
        "colab_type": "code",
        "outputId": "9e9bc1e2-6378-4b4a-a8ae-d1d3579e6bd1",
        "colab": {
          "base_uri": "https://localhost:8080/",
          "height": 34
        }
      },
      "source": [
        "\"\"\"\n",
        "Placeholders\n",
        "\"\"\"\n",
        "\n",
        "# You're writing a program, and you don't know what your starting value for your 'initial' variable is yet. The program won't run if you leave it blank, but you don't want to forget you need it! Make a workaround.\n",
        "\n",
        "variable = None    # None is a data type called \"null\"\n",
        "print(variable)\n"
      ],
      "execution_count": 0,
      "outputs": [
        {
          "output_type": "stream",
          "text": [
            "None\n"
          ],
          "name": "stdout"
        }
      ]
    },
    {
      "cell_type": "markdown",
      "metadata": {
        "id": "UYk36-FaSVyc",
        "colab_type": "text"
      },
      "source": [
        "\n",
        "\n",
        "### P2.PY\n",
        "\n",
        "\n"
      ]
    },
    {
      "cell_type": "code",
      "metadata": {
        "id": "Yzzt09VbSVyd",
        "colab_type": "code",
        "outputId": "39f7b9ed-1983-460f-ad0e-6449c09ddae4",
        "colab": {
          "base_uri": "https://localhost:8080/",
          "height": 51
        }
      },
      "source": [
        "\"\"\"\n",
        "Basic Variables\n",
        "\"\"\"\n",
        "\n",
        "# Create a variable that represents your favorite number, and add a note to remind yourself what this variable represents. Now print it out without re-typing the number.\n",
        "\n",
        "my_fav_number = 1          # Represents my favorite number\n",
        "print(my_fav_number)\n",
        "\n",
        "# Create another variable that represents your favorite color, and do the same steps as above.\n",
        "\n",
        "my_fav_color = \"white\"     # Represents my favorite color\n",
        "print(my_fav_color)"
      ],
      "execution_count": 0,
      "outputs": [
        {
          "output_type": "stream",
          "text": [
            "1\n",
            "white\n"
          ],
          "name": "stdout"
        }
      ]
    },
    {
      "cell_type": "markdown",
      "metadata": {
        "id": "RPYB8BxfSVyg",
        "colab_type": "text"
      },
      "source": [
        "\n",
        "\n",
        "### P3.PY\n",
        "\n",
        "\n"
      ]
    },
    {
      "cell_type": "code",
      "metadata": {
        "id": "fqnjz6HOSVyg",
        "colab_type": "code",
        "outputId": "4fa66761-de7c-453b-c1d9-cdfc18d3308b",
        "colab": {
          "base_uri": "https://localhost:8080/",
          "height": 119
        }
      },
      "source": [
        "\"\"\"\n",
        "String Formatting\n",
        "\"\"\"\n",
        "\n",
        "# Create a variable that contains the first 4 lines of your favorite song. Add a comment that includes the song title and artist **each on their own line**! Now print out this variable.\n",
        "\n",
        "be_happy_lines = \"\"\"\n",
        "this\n",
        "  is\n",
        "   a\n",
        " song\n",
        "\"\"\"\n",
        "print(be_happy_lines)"
      ],
      "execution_count": 0,
      "outputs": [
        {
          "output_type": "stream",
          "text": [
            "\n",
            "this\n",
            "  is\n",
            "   a\n",
            " song\n",
            "\n"
          ],
          "name": "stdout"
        }
      ]
    },
    {
      "cell_type": "markdown",
      "metadata": {
        "id": "7z5a7zfySVyi",
        "colab_type": "text"
      },
      "source": [
        "\n",
        "\n",
        "## TYPECASTING\n",
        "\n",
        "### P1.PY\n",
        "\n",
        "\n"
      ]
    },
    {
      "cell_type": "code",
      "metadata": {
        "id": "KuW39iZsSVyj",
        "colab_type": "code",
        "outputId": "0b07834a-68a7-41f4-bc4e-594f020d27ec",
        "colab": {
          "base_uri": "https://localhost:8080/",
          "height": 289
        }
      },
      "source": [
        "\"\"\"\n",
        "Typcasting w. Integers & Floats\n",
        "\"\"\"\n",
        "\n",
        "# Convert these numbers into floats and back. Print out each result as well as its data type.\n",
        "\n",
        "five = 5\n",
        "zero = 0\n",
        "neg_8 = -8\n",
        "neg_22 = -22\n",
        "\n",
        "\n",
        "# Five\n",
        "\n",
        "int_to_float = float(five)\n",
        "print(int_to_float)\n",
        "print(type(int_to_float)) \n",
        "float_to_int = int(int_to_float)\n",
        "print(float_to_int)\n",
        "print(type(float_to_int))\n",
        "\n",
        "\n",
        "# Zero\n",
        "\n",
        "f_zero = float(zero)\n",
        "print(f_zero)\n",
        "print(type(f_zero))\n",
        "i_zero = int(f_zero)\n",
        "print(i_zero)\n",
        "print(type(i_zero))\n",
        "\n",
        "\n",
        "# Neg_8\n",
        "\n",
        "f_neg_8 = float(neg_8)\n",
        "print(f_neg_8)\n",
        "print(type(f_neg_8))\n",
        "i_neg_8 = int(f_neg_8)\n",
        "print(i_neg_8)\n",
        "print(type(i_neg_8))\n",
        "\n",
        "\n",
        "# Neg 22\n",
        "\n",
        "f_neg_22 = float(neg_22)\n",
        "print(f_neg_22)\n",
        "print(type(f_neg_22))\n",
        "i_neg_22 = int(f_neg_22)\n",
        "print(i_neg_22)\n",
        "print(type(i_neg_22))\n"
      ],
      "execution_count": 16,
      "outputs": [
        {
          "output_type": "stream",
          "text": [
            "5.0\n",
            "<class 'float'>\n",
            "5\n",
            "<class 'int'>\n",
            "0.0\n",
            "<class 'float'>\n",
            "0\n",
            "<class 'int'>\n",
            "-8.0\n",
            "<class 'float'>\n",
            "-8\n",
            "<class 'int'>\n",
            "-22.0\n",
            "<class 'float'>\n",
            "-22\n",
            "<class 'int'>\n"
          ],
          "name": "stdout"
        }
      ]
    },
    {
      "cell_type": "markdown",
      "metadata": {
        "colab_type": "text",
        "id": "mjfIoTspcpca"
      },
      "source": [
        "\n",
        "\n",
        "### P2.PY\n",
        "\n",
        "\n"
      ]
    },
    {
      "cell_type": "code",
      "metadata": {
        "id": "n3-oKNF_SVyl",
        "colab_type": "code",
        "outputId": "cecaed3e-7e2c-41a3-e7b1-c9a263e44bea",
        "colab": {
          "base_uri": "https://localhost:8080/",
          "height": 153
        }
      },
      "source": [
        "\"\"\"\n",
        "Typcasting w. Strings\n",
        "\"\"\"\n",
        "\n",
        "# Convert these variables into strings and then back to their original data types. Print out each result as well as its data type. What do you notice about the last one?\n",
        "\n",
        "five = 5\n",
        "zero = 0\n",
        "neg_8 = -8\n",
        "T = True\n",
        "F = False\n",
        "\n",
        "\n",
        "# Five\n",
        "\n",
        "int_to_str = str(five)         \n",
        "str_to_int = int(int_to_str)               \n",
        "print(int_to_str)\n",
        "print(type(int_to_str))\n",
        "print(str_to_int)\n",
        "print(type(str_to_int))\n",
        "\n",
        "\n",
        "# T\n",
        "\n",
        "bool_to_str = str(T)\n",
        "str_to_bool = bool(bool_to_str)\n",
        "print(bool_to_str)\n",
        "print(type(bool_to_str))\n",
        "print(str_to_bool)\n",
        "print(type(str_to_bool))\n"
      ],
      "execution_count": 19,
      "outputs": [
        {
          "output_type": "stream",
          "text": [
            "5\n",
            "<class 'str'>\n",
            "5\n",
            "<class 'int'>\n",
            "True\n",
            "<class 'str'>\n",
            "True\n",
            "<class 'bool'>\n"
          ],
          "name": "stdout"
        }
      ]
    },
    {
      "cell_type": "markdown",
      "metadata": {
        "id": "-Vgf82G1SVyn",
        "colab_type": "text"
      },
      "source": [
        "\n",
        "\n",
        "### P3.PY\n",
        "\n",
        "\n"
      ]
    },
    {
      "cell_type": "code",
      "metadata": {
        "id": "WeeolzCJSVyn",
        "colab_type": "code",
        "outputId": "1db9c51d-88b5-441b-e5f4-902de2b7d9aa",
        "colab": {
          "base_uri": "https://localhost:8080/",
          "height": 323
        }
      },
      "source": [
        "\"\"\"\n",
        "Booleans I - Typecasting w. Numbers\n",
        "\"\"\"\n",
        "\n",
        "# A) Use typecasting to turn these variables into boolean values. Print the result and the datatype of the result. \n",
        "\n",
        "one = 1\n",
        "zero = 0\n",
        "\n",
        "var_to_bool1 = bool(one)\n",
        "print(var_to_bool1)\n",
        "print(type(var_to_bool1))\n",
        "\n",
        "var_to_bool2 = bool(zero)\n",
        "print(var_to_bool2)\n",
        "print(type(var_to_bool2))\n",
        "\n",
        "\n",
        "# B) Use typecasting to turn the resultant variables from part A into floats. Print the result and the datatype of the result.\n",
        "\n",
        "f_var1 = float(var_to_bool1)\n",
        "print(f_var1)\n",
        "print(type(f_var1))\n",
        "\n",
        "f_var2 = float(var_to_bool2)\n",
        "print(f_var2)\n",
        "print(type(f_var2))\n",
        "\n",
        "\n",
        "# C) Use typecasting to turn the resultant variables from part B back into booleans. Print the result and the datatype of the result.\n",
        "\n",
        "b_var1 = bool(f_var1)\n",
        "print(b_var1)\n",
        "print(type(b_var1))\n",
        "\n",
        "b_var2 = bool(f_var2)\n",
        "print(b_var2)\n",
        "print(type(b_var2))\n",
        "\n",
        "\n",
        "# C) Use typecasting to turn the resultant variables from part C into integers. Print the result and the datatype of the result.\n",
        "\n",
        "i_var1 = int(b_var1)\n",
        "print(i_var1)\n",
        "print(type(i_var1))\n",
        "\n",
        "i_var2 = int(b_var2)\n",
        "print(i_var2)\n",
        "print(type(i_var2))\n",
        "\n",
        "\n",
        "# E) Use typecasting to turn the variable below into a boolean value. Print the result and the datatype of the result. \n",
        "\n",
        "ten = 10\n",
        "\n",
        "b_ten = bool(ten)\n",
        "print(b_ten)\n",
        "print(type(b_ten))\n",
        "\n"
      ],
      "execution_count": 23,
      "outputs": [
        {
          "output_type": "stream",
          "text": [
            "True\n",
            "<class 'bool'>\n",
            "False\n",
            "<class 'bool'>\n",
            "1.0\n",
            "<class 'float'>\n",
            "0.0\n",
            "<class 'float'>\n",
            "True\n",
            "<class 'bool'>\n",
            "False\n",
            "<class 'bool'>\n",
            "1\n",
            "<class 'int'>\n",
            "0\n",
            "<class 'int'>\n",
            "True\n",
            "<class 'bool'>\n"
          ],
          "name": "stdout"
        }
      ]
    },
    {
      "cell_type": "markdown",
      "metadata": {
        "id": "DSl4FGYuSVyp",
        "colab_type": "text"
      },
      "source": [
        "\n",
        "\n",
        "### P4.PY\n",
        "\n",
        "\n"
      ]
    },
    {
      "cell_type": "code",
      "metadata": {
        "id": "In4qiBlISVyp",
        "colab_type": "code",
        "colab": {
          "base_uri": "https://localhost:8080/",
          "height": 289
        },
        "outputId": "74a8171f-1764-4e7a-b5d5-f049a9b967d8"
      },
      "source": [
        "\"\"\"\n",
        "Booleans II - Typecasting w. Strings\n",
        "\"\"\"\n",
        "\n",
        "# A) Use typecasting to turn these variables into boolean values. Print the result and the datatype of the result. \n",
        "\n",
        "one = 1\n",
        "zero = 0\n",
        "bool_true = True\n",
        "bool_false = False\n",
        "\n",
        "b_one = bool(one)\n",
        "b_zero = bool(zero)\n",
        "b_true = bool(bool_true)\n",
        "b_false = bool(bool_false)\n",
        "\n",
        "print(b_one)\n",
        "print(type(b_one))\n",
        "print(b_zero)\n",
        "print(type(b_zero))\n",
        "print(b_true)\n",
        "print(type(b_true))\n",
        "print(b_false)\n",
        "print(type(b_false))\n",
        "\n",
        "\n",
        "# B) Use typecasting to turn the latest values for variables 'one' and 'zero' back into integers. Print the result and the datatype of the result.\n",
        "\n",
        "i_one = int(b_one)\n",
        "print(i_one)\n",
        "print(type(i_one))\n",
        "\n",
        "i_zero = int(b_zero)\n",
        "print(i_zero)\n",
        "print(type(i_zero))\n",
        "\n",
        "\n",
        "# C) Use typecasting to turn the latest values for variables 'bool_true' and 'bool_false' back into boolean values. Print the result and the datatype of the result.\n",
        "\n",
        "b2_true = bool(b_true)\n",
        "print(b2_true)\n",
        "print(type(b2_true))\n",
        "\n",
        "b2_false = bool(b_false)\n",
        "print(b2_false)\n",
        "print(type(b2_false))\n",
        "\n",
        "\n"
      ],
      "execution_count": 26,
      "outputs": [
        {
          "output_type": "stream",
          "text": [
            "True\n",
            "<class 'bool'>\n",
            "False\n",
            "<class 'bool'>\n",
            "True\n",
            "<class 'bool'>\n",
            "False\n",
            "<class 'bool'>\n",
            "1\n",
            "<class 'int'>\n",
            "0\n",
            "<class 'int'>\n",
            "True\n",
            "<class 'bool'>\n",
            "False\n",
            "<class 'bool'>\n"
          ],
          "name": "stdout"
        }
      ]
    },
    {
      "cell_type": "markdown",
      "metadata": {
        "id": "OKi4d-FZSVys",
        "colab_type": "text"
      },
      "source": [
        "\n",
        "\n",
        "## OPERATORS\n",
        "\n",
        "### P1.PY\n",
        "\n",
        "\n"
      ]
    },
    {
      "cell_type": "code",
      "metadata": {
        "id": "2KYsq8pjSVyt",
        "colab_type": "code",
        "outputId": "6e0d513e-433a-4742-c5dd-384cceb6fdcf",
        "colab": {
          "base_uri": "https://localhost:8080/",
          "height": 102
        }
      },
      "source": [
        "\"\"\"\n",
        "Integer & Float Operators\n",
        "\"\"\"\n",
        "\n",
        "# Complete the specified math operations. Do the next operation on the result from the previous operation.\n",
        "\n",
        "orig_var = 100\n",
        "\n",
        "# Add 50\n",
        "\n",
        "orig_var = orig_var + 50       # could also be orig_var += 50\n",
        "print(orig_var)\n",
        "\n",
        "# Subtract 90\n",
        "\n",
        "orig_var = orig_var - 90\n",
        "print(orig_var)\n",
        "\n",
        "# Multiply 10\n",
        "\n",
        "orig_var = orig_var * 10\n",
        "print(orig_var)\n",
        "\n",
        "# Divide 150\n",
        "\n",
        "orig_var = orig_var / 150\n",
        "print(orig_var)\n",
        "\n",
        "# Modulus 3 (that is the remainder)\n",
        "\n",
        "orig_var = orig_var % 3\n",
        "print(orig_var)\n",
        "\n"
      ],
      "execution_count": 0,
      "outputs": [
        {
          "output_type": "stream",
          "text": [
            "150\n",
            "60\n",
            "600\n",
            "4.0\n",
            "1.0\n"
          ],
          "name": "stdout"
        }
      ]
    },
    {
      "cell_type": "markdown",
      "metadata": {
        "id": "7aniRSwASVyu",
        "colab_type": "text"
      },
      "source": [
        "\n",
        "\n",
        "### P2.PY\n",
        "\n",
        "\n"
      ]
    },
    {
      "cell_type": "code",
      "metadata": {
        "id": "bizwqNgkSVyv",
        "colab_type": "code",
        "outputId": "2747c898-dde2-4f60-a43e-b89ee1ffc3b6",
        "colab": {
          "base_uri": "https://localhost:8080/",
          "height": 34
        }
      },
      "source": [
        "\"\"\"\n",
        "String Operators\n",
        "\"\"\"\n",
        "\n",
        "# Create two variables, each of which is half of a compound sentence. Do NOT add any punctuation up front. Add the two variables together, and print the result.\n",
        "## Example compound sentence: \"I'll go to the beach today, and I'll go snorkeling.\" \n",
        "\n",
        "var1 = \"I am going\"\n",
        "var2 = \" swimming\"\n",
        "\n",
        "var3 = var1 + var2\n",
        "print(var3)\n"
      ],
      "execution_count": 0,
      "outputs": [
        {
          "output_type": "stream",
          "text": [
            "I am going swimming\n"
          ],
          "name": "stdout"
        }
      ]
    },
    {
      "cell_type": "markdown",
      "metadata": {
        "id": "f75uYf0qSVyx",
        "colab_type": "text"
      },
      "source": [
        "\n",
        "\n",
        "### P3.PY\n",
        "\n",
        "\n"
      ]
    },
    {
      "cell_type": "code",
      "metadata": {
        "id": "27NKF0CoSVyx",
        "colab_type": "code",
        "outputId": "9e3079d6-d665-41c6-9d76-c9e0a0f4ca0d",
        "colab": {
          "base_uri": "https://localhost:8080/",
          "height": 68
        }
      },
      "source": [
        "\"\"\"\n",
        "Addition I - Numbers & Strings\n",
        "\"\"\"\n",
        "\n",
        "# Add the below sets of variables together.\n",
        "\n",
        "# A)\n",
        "a = 0\n",
        "b = 2\n",
        "x = a + b\n",
        "print(x)   \n",
        "\n",
        "\n",
        "# B)\n",
        "c = '0'\n",
        "d = '2'\n",
        "y = int(c) + int(d)\n",
        "print(y)\n",
        "\n",
        "\n",
        "# C)\n",
        "e = \"0\"\n",
        "f = 2\n",
        "z = int(e) + f\n",
        "print(z)   "
      ],
      "execution_count": 0,
      "outputs": [
        {
          "output_type": "stream",
          "text": [
            "2\n",
            "2\n",
            "2\n"
          ],
          "name": "stdout"
        }
      ]
    },
    {
      "cell_type": "markdown",
      "metadata": {
        "id": "9JceJNAOSVyz",
        "colab_type": "text"
      },
      "source": [
        "\n",
        "\n",
        "### P4.PY\n",
        "\n",
        "\n"
      ]
    },
    {
      "cell_type": "code",
      "metadata": {
        "id": "xp25EIWLSVyz",
        "colab_type": "code",
        "outputId": "ab0fb2ff-a4a6-485e-9643-b5cf6b28aa3b",
        "colab": {
          "base_uri": "https://localhost:8080/",
          "height": 68
        }
      },
      "source": [
        "\"\"\"\n",
        "Addition II - Booleans\n",
        "\"\"\"\n",
        "\n",
        "# Add the below sets of variables together.\n",
        "\n",
        "# A)\n",
        "a = True\n",
        "b = True\n",
        "\n",
        "x = a + b\n",
        "print(x)\n",
        "\n",
        "\n",
        "# B)\n",
        "c = False\n",
        "d = False\n",
        "\n",
        "z = c + d\n",
        "print (z)\n",
        "\n",
        "# C)\n",
        "e = True\n",
        "f = False\n",
        "\n",
        "y = e + f\n",
        "print(y)"
      ],
      "execution_count": 0,
      "outputs": [
        {
          "output_type": "stream",
          "text": [
            "2\n",
            "0\n",
            "1\n"
          ],
          "name": "stdout"
        }
      ]
    },
    {
      "cell_type": "markdown",
      "metadata": {
        "id": "7r8hXEEASVy1",
        "colab_type": "text"
      },
      "source": [
        "\n"
      ]
    }
  ]
}