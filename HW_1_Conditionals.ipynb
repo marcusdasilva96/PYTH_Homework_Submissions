{
  "nbformat": 4,
  "nbformat_minor": 0,
  "metadata": {
    "colab": {
      "name": "HW 1: Conditionals.ipynb",
      "version": "0.3.2",
      "provenance": [],
      "collapsed_sections": [],
      "include_colab_link": true
    },
    "kernelspec": {
      "name": "python3",
      "display_name": "Python 3"
    }
  },
  "cells": [
    {
      "cell_type": "markdown",
      "metadata": {
        "id": "view-in-github",
        "colab_type": "text"
      },
      "source": [
        "<a href=\"https://colab.research.google.com/github/marcusdasilva96/PYTH_Homework_Submissions/blob/master/HW_1_Conditionals.ipynb\" target=\"_parent\"><img src=\"https://colab.research.google.com/assets/colab-badge.svg\" alt=\"Open In Colab\"/></a>"
      ]
    },
    {
      "cell_type": "markdown",
      "metadata": {
        "id": "E6ty1J_GqpAZ",
        "colab_type": "text"
      },
      "source": [
        "<a href=\"https://colab.research.google.com/github/mottaquikarim/PYTH2/blob/master/src/PSETS/nb/conditionals_inclass_psets.ipynb\" target=\"_parent\"><img src=\"https://colab.research.google.com/assets/colab-badge.svg\" alt=\"Open In Colab\"/></a>"
      ]
    },
    {
      "cell_type": "markdown",
      "metadata": {
        "id": "2MI_BJg8qpAb",
        "colab_type": "text"
      },
      "source": [
        "#  CONDITIONALS\n",
        "\n",
        "## WEATHER\n",
        "\n",
        "### P1.PY\n",
        "\n",
        "\n"
      ]
    },
    {
      "cell_type": "code",
      "metadata": {
        "id": "082PZITCqpAb",
        "colab_type": "code",
        "colab": {
          "base_uri": "https://localhost:8080/",
          "height": 85
        },
        "outputId": "8a773ee8-7c84-4666-d02b-47c5a70767f4"
      },
      "source": [
        "\"\"\"\n",
        "Weather I - Do you need boots?\n",
        "\"\"\"\n",
        "\n",
        "# Use the values of the vars defined below to ouput the correct contextual answer to the questions below. (Note: The variables themselves ARE the questions.)\n",
        "\n",
        "# Example:\n",
        "## am_i_hungry = False\n",
        "## am_i_tired = True\n",
        "## do_i_need_to_stay_awake = False\n",
        "\n",
        "## should_i_drink_coffee_now = am_i_tired and do_i_need_to_stay_awake\n",
        "\n",
        "## ^^ This ^^ evaluates to False. If you're tired and don't need to stay awake, you don't need to drink coffee!\n",
        "\n",
        "\n",
        "is_it_raining = True\n",
        "is_it_snowing = False\n",
        "\n",
        "\n",
        "do_i_need_snow_boots = is_it_snowing\n",
        "# no\n",
        "  \n",
        "can_i_skip_snow_boots = is_it_raining and not is_it_snowing\n",
        "# yes\n",
        "  \n",
        "do_i_need_rain_boots = is_it_raining\n",
        "# yes\n",
        "  \n",
        "can_i_skip_rain_boots = is_it_snowing and not is_it_raining\n",
        "# no\n",
        "\n",
        "print(do_i_need_snow_boots)\n",
        "print(can_i_skip_snow_boots)\n",
        "print(do_i_need_rain_boots)\n",
        "print(can_i_skip_rain_boots)\n"
      ],
      "execution_count": 3,
      "outputs": [
        {
          "output_type": "stream",
          "text": [
            "False\n",
            "True\n",
            "True\n",
            "False\n"
          ],
          "name": "stdout"
        }
      ]
    },
    {
      "cell_type": "markdown",
      "metadata": {
        "id": "q0EFbPvqqpAe",
        "colab_type": "text"
      },
      "source": [
        "\n",
        "\n",
        "### P2.PY\n",
        "\n",
        "\n"
      ]
    },
    {
      "cell_type": "code",
      "metadata": {
        "id": "GYktBAOdqpAe",
        "colab_type": "code",
        "colab": {
          "base_uri": "https://localhost:8080/",
          "height": 85
        },
        "outputId": "ab6bc13b-9050-4691-996a-e3ac502382b9"
      },
      "source": [
        "\"\"\"\n",
        "Weather II - Precipitation\n",
        "\"\"\"\n",
        "\n",
        "# Repeat the same process as p1, using this new set of variables.\n",
        "\n",
        "sunny = True\n",
        "raining = True\n",
        "snowing = False\n",
        "\n",
        "is_it_sunny = sunny\n",
        "# yes\n",
        "\n",
        "is_there_precipitation = raining or snowing\n",
        "# yes\n",
        "\n",
        "is_it_sleeting = snowing and snowing\n",
        "# no\n",
        "\n",
        "is_there_rainbow = sunny and raining\n",
        "# yes\n",
        "\n",
        "print(is_it_sunny)\n",
        "print(is_there_precipitation)\n",
        "print(is_it_sleeting)\n",
        "print(is_there_rainbow)"
      ],
      "execution_count": 11,
      "outputs": [
        {
          "output_type": "stream",
          "text": [
            "True\n",
            "True\n",
            "False\n",
            "True\n"
          ],
          "name": "stdout"
        }
      ]
    },
    {
      "cell_type": "markdown",
      "metadata": {
        "id": "g0WFBXUzqpAg",
        "colab_type": "text"
      },
      "source": [
        "\n",
        "\n",
        "### P3.PY\n",
        "\n",
        "\n"
      ]
    },
    {
      "cell_type": "code",
      "metadata": {
        "id": "U1hVU5edqpAg",
        "colab_type": "code",
        "colab": {
          "base_uri": "https://localhost:8080/",
          "height": 85
        },
        "outputId": "26aa9f2a-2257-45bc-ee84-59773f212c73"
      },
      "source": [
        "\"\"\"\n",
        "Weather III - Describe Conditions\n",
        "\"\"\"\n",
        "\n",
        "# Repeat the same process as p1, using this new set of variables.\n",
        "\n",
        "\n",
        "is_it_warm = True\n",
        "is_it_humid = True\n",
        "is_it_cold = False\n",
        "is_it_icy = False\n",
        "is_it_foggy = False\n",
        "is_it_windy = False\n",
        "is_it_overcast = True\n",
        "\n",
        "\n",
        "is_it_summer_weather = is_it_warm and is_it_humid\n",
        "# yes\n",
        "\n",
        "is_rain_coming = is_it_overcast\n",
        "# yes\n",
        "\n",
        "is_it_muggy = is_it_overcast\n",
        "# yes\n",
        "\n",
        "do_i_need_coat = is_it_windy or is_it_cold\n",
        "# no\n",
        "\n",
        "print(is_it_summer_weather)\n",
        "print(is_rain_coming)\n",
        "print(is_it_muggy)\n",
        "print(do_i_need_coat)\n",
        "\n"
      ],
      "execution_count": 15,
      "outputs": [
        {
          "output_type": "stream",
          "text": [
            "True\n",
            "True\n",
            "True\n",
            "False\n"
          ],
          "name": "stdout"
        }
      ]
    },
    {
      "cell_type": "markdown",
      "metadata": {
        "id": "Wt8lzHDlqpAi",
        "colab_type": "text"
      },
      "source": [
        "\n",
        "\n",
        "## LOGIC\n",
        "\n",
        "### P1.PY\n",
        "\n",
        "\n"
      ]
    },
    {
      "cell_type": "code",
      "metadata": {
        "id": "c0CgwlUnqpAj",
        "colab_type": "code",
        "colab": {
          "base_uri": "https://localhost:8080/",
          "height": 34
        },
        "outputId": "e6738617-441f-4f69-8618-fe7cd6ae134d"
      },
      "source": [
        "\"\"\"\n",
        "Calculate Grade\n",
        "\"\"\"\n",
        "\n",
        "grade = 70  # expect this to be a number\n",
        "\n",
        "# write a program that will print the \"letter\"\n",
        "# equivalent of the grade, for example:\n",
        "# when grade = 90 # -> expect A\n",
        "# when grade = 80 # -> expect B\n",
        "# when grade = 70 # -> expect C\n",
        "# when grade = 60 # -> expect D\n",
        "# when grade = 54 # -> expect F\n",
        "# when grade = -10 # -> expect Error\n",
        "# when grade = 10000 # -> expect Error\n",
        "# when grade = \"lol skool sucks\" # -> expect Error\n",
        "\n",
        "\n",
        "if grade >= 90:\n",
        "  print(\"A\")\n",
        "elif grade >= 80:\n",
        "  print(\"B\")\n",
        "elif grade >= 70:\n",
        "  print(\"C\")\n",
        "elif grade >= 60:\n",
        "  print(\"D\")\n",
        "else:\n",
        "  print(\"F\")\n",
        "\n"
      ],
      "execution_count": 7,
      "outputs": [
        {
          "output_type": "stream",
          "text": [
            "C\n"
          ],
          "name": "stdout"
        }
      ]
    },
    {
      "cell_type": "markdown",
      "metadata": {
        "id": "AwJ8thnUqpAk",
        "colab_type": "text"
      },
      "source": [
        "\n",
        "\n",
        "### P2.PY\n",
        "\n",
        "\n"
      ]
    },
    {
      "cell_type": "code",
      "metadata": {
        "id": "cZAAXOxYqpAl",
        "colab_type": "code",
        "colab": {
          "base_uri": "https://localhost:8080/",
          "height": 34
        },
        "outputId": "5d69d598-eaf8-47fc-fc25-555fd613102a"
      },
      "source": [
        "\"\"\"\n",
        "Sign of Product\n",
        "\"\"\"\n",
        "\n",
        "# Given three numbers, a, b, c, without multiplying, determine the sign of their product.\n",
        "\n",
        "# EXAMPLE: a = -5, b = 6, c = -4, print 1\n",
        "\n",
        "# EXAMPLE: a = 5, b = 6, c = -4, print -1\n",
        "\n",
        "a = 5\n",
        "b = 6\n",
        "c = -4\n",
        "sign = 0\n",
        "if a > 0 and b > 0 and c > 0:\n",
        "  sign = 1\n",
        "elif a < 0 and b < 0 and c > 0:\n",
        "  sign = 1\n",
        "elif a < 0 and c < 0 and b > 0:\n",
        "  sign = 1\n",
        "else:\n",
        "  sign = -1\n",
        "\n",
        "print(sign)\n"
      ],
      "execution_count": 26,
      "outputs": [
        {
          "output_type": "stream",
          "text": [
            "-1\n"
          ],
          "name": "stdout"
        }
      ]
    },
    {
      "cell_type": "markdown",
      "metadata": {
        "id": "1NyTuKp5qpAn",
        "colab_type": "text"
      },
      "source": [
        "\n",
        "\n",
        "### P3.PY\n",
        "\n",
        "\n"
      ]
    },
    {
      "cell_type": "code",
      "metadata": {
        "id": "RBdxXUdxqpAn",
        "colab_type": "code",
        "colab": {
          "base_uri": "https://localhost:8080/",
          "height": 34
        },
        "outputId": "a91d6bff-6bf3-4cf8-d00a-e4ca9cadf482"
      },
      "source": [
        "\"\"\"\n",
        "Any Uppercase\n",
        "\"\"\"\n",
        "\n",
        "# Given a string str, determine if there are any uppercase values in it. Use only conditional statements and string methods (you may have to look some up!)\n",
        "\n",
        "# EXAMPLE: str = \"teSt\", print True\n",
        "\n",
        "str_ = \"Marcus\"\n",
        "str_lower = str_.lower()\n",
        "\n",
        "if str_ == str_lower:     # this is ONLY true if the original string is ALL lower case\n",
        "  print(False)\n",
        "else:\n",
        "  print(True)"
      ],
      "execution_count": 8,
      "outputs": [
        {
          "output_type": "stream",
          "text": [
            "True\n"
          ],
          "name": "stdout"
        }
      ]
    },
    {
      "cell_type": "markdown",
      "metadata": {
        "id": "uYswsSIHqpAp",
        "colab_type": "text"
      },
      "source": [
        "\n",
        "\n",
        "### P4.PY\n",
        "\n",
        "\n"
      ]
    },
    {
      "cell_type": "code",
      "metadata": {
        "id": "aO49e-F4qpAp",
        "colab_type": "code",
        "colab": {
          "base_uri": "https://localhost:8080/",
          "height": 51
        },
        "outputId": "97ac80af-2072-4b4a-ec11-531cb2d9d626"
      },
      "source": [
        "\"\"\"\n",
        "Empty Strings\n",
        "\"\"\"\n",
        "\n",
        "# Given any empty string, of the form:\n",
        "\n",
        "# ''\n",
        "# ' '\n",
        "# '  '\n",
        "# any other num of spaces...\n",
        "\n",
        "# determine if the str is empty or not (print True or False). Hint: You'll need to look up how to remove trailing spaces from a string.\n",
        "\n",
        "x = \"       HELLO\"\n",
        "\n",
        "if x.strip == \"\":\n",
        "  print(True)\n",
        "else:\n",
        "  print(False)\n",
        "  \n",
        "  \n",
        "y = \"\"\n",
        "\n",
        "if y.strip == \"\":\n",
        "  print(True)\n",
        "else:\n",
        "  print(False)\n"
      ],
      "execution_count": 25,
      "outputs": [
        {
          "output_type": "stream",
          "text": [
            "False\n",
            "False\n"
          ],
          "name": "stdout"
        }
      ]
    },
    {
      "cell_type": "markdown",
      "metadata": {
        "id": "0BiVym6XqpAs",
        "colab_type": "text"
      },
      "source": [
        "\n",
        "\n",
        "### P5.PY\n",
        "\n",
        "\n"
      ]
    },
    {
      "cell_type": "code",
      "metadata": {
        "id": "KtazNGaQqpAt",
        "colab_type": "code",
        "colab": {}
      },
      "source": [
        "\"\"\"\n",
        "truthTableEvaluator\n",
        "\"\"\"\n",
        "\n",
        "# Given the following inputs:\n",
        "\n",
        "\n",
        "# P = # True or False\n",
        "# Q = # True or False\n",
        "# op = # '^' (logical AND, conjunction)\n",
        "#      # OR, 'v' (logical OR, disjunction)\n",
        "#      # OR, '->' (logical conditional, implication)\n",
        "#      # OR, '<->' (biconditional)\n",
        "# determine the correct outcome.\n",
        "\n",
        "# https://medium.com/i-math/intro-to-truth-tables-boolean-algebra-73b331dd9b94\n",
        "\n",
        "\"\"\"\n",
        "P | Q | P AND Q | P OR Q | P IMPLIED Q | P IF AND ONLY IF Q\n",
        "T   T      T        T            T               T\n",
        "T   F      F        T            F               F\n",
        "F   T      F        T            T               F\n",
        "F   F      F        F            T               T\n",
        "\n",
        "\"\"\"\n",
        "\n",
        "P = True\n",
        "Q = False\n",
        "op = \"^\"\n",
        "\n",
        "if op == '^': # LOGICAL AND\n",
        "  if P and Q:\n",
        "    print(True)\n",
        "  else:\n",
        "    print(False)\n",
        "elif op == 'V': # logical OR\n",
        "  if P or Q:\n",
        "    print(True)\n",
        "  else:\n",
        "    print(False)\n",
        "elif op == '->': # logical conditional\n",
        "  if P and not Q:\n",
        "    print(False)\n",
        "  else:\n",
        "    print(True)\n",
        "elif op == '<->': # biconditional\n",
        "  if P == Q:\n",
        "    print(True)\n",
        "  else:\n",
        "    print(False)\n"
      ],
      "execution_count": 0,
      "outputs": []
    },
    {
      "cell_type": "markdown",
      "metadata": {
        "id": "43EL2sp8qpAv",
        "colab_type": "text"
      },
      "source": [
        "\n",
        "\n",
        "## RANDOM_NUMS\n",
        "\n",
        "### P1.PY\n",
        "\n",
        "\n"
      ]
    },
    {
      "cell_type": "code",
      "metadata": {
        "id": "WlKf_hPDqpAv",
        "colab_type": "code",
        "colab": {
          "base_uri": "https://localhost:8080/",
          "height": 51
        },
        "outputId": "0ed46335-d724-4ae8-b3d4-18a796ae55a2"
      },
      "source": [
        "\"\"\"\n",
        "Generate Traffic Light\n",
        "\"\"\"\n",
        "\n",
        "# import python random package\n",
        "from random import randint\n",
        "\n",
        "# generates a random number from 1 to 3\n",
        "randnum = randint(1,3)\n",
        "\n",
        "# if 1, print 'red'\n",
        "# if 2, print 'green',\n",
        "# if 3, print 'yellow'\n",
        "\n",
        "print(randnum)\n",
        "if randnum == 1:\n",
        "  print('red')\n",
        "elif randnum == 2:\n",
        "  print('green')\n",
        "else:\n",
        "  print ('yellow')\n"
      ],
      "execution_count": 32,
      "outputs": [
        {
          "output_type": "stream",
          "text": [
            "1\n",
            "red\n"
          ],
          "name": "stdout"
        }
      ]
    },
    {
      "cell_type": "markdown",
      "metadata": {
        "id": "ubjxAredqpAx",
        "colab_type": "text"
      },
      "source": [
        "\n",
        "\n",
        "### P2.PY\n",
        "\n",
        "\n"
      ]
    },
    {
      "cell_type": "code",
      "metadata": {
        "id": "llc-1VOfqpAy",
        "colab_type": "code",
        "colab": {
          "base_uri": "https://localhost:8080/",
          "height": 34
        },
        "outputId": "cbc6cab6-4ef6-4c9b-9926-2da3beea808d"
      },
      "source": [
        "\"\"\"\n",
        "Generate Phone Number w/Area Code\n",
        "\"\"\"\n",
        "\n",
        "# import python random package\n",
        "from random import randint\n",
        "\n",
        "# generate a random phone number of the form:\n",
        "# 1-718-786-2825\n",
        "# This should be a string\n",
        "# Valid Area Codes are: 646, 718, 212\n",
        "# if phone number doesn't have [646, 718, 212]\n",
        "# as area code, pick one of the above at random\n",
        "\n",
        "b = randint(0, 999)\n",
        "if b < 10: # 6\n",
        "  b = f\"00{b}\" # \"006\"\n",
        "elif b < 100: # 66\n",
        "  b = f\"0{b}\" # \"066\"\n",
        "  \n",
        "c = randint(0, 9999)\n",
        "if c < 10:\n",
        "  c = f\"000{c}\"\n",
        "elif c < 100:\n",
        "  c = f\"00{c}\"\n",
        "elif c < 1000:\n",
        "  c = f\"0{c}\"\n",
        "\n",
        "a = randint(1,3)\n",
        "if a == 1:\n",
        "  a = 646\n",
        "elif a == 2:\n",
        "  a = 718\n",
        "else:\n",
        "  a = 212\n",
        "  \n",
        "phone = f\"1-{a}-{b}-{c}\"\n",
        "print(phone)\n"
      ],
      "execution_count": 24,
      "outputs": [
        {
          "output_type": "stream",
          "text": [
            "1-662-765-2029\n"
          ],
          "name": "stdout"
        }
      ]
    },
    {
      "cell_type": "markdown",
      "metadata": {
        "id": "Y3MasN8kqpAz",
        "colab_type": "text"
      },
      "source": [
        "\n"
      ]
    }
  ]
}